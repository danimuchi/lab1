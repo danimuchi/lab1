{
  "metadata": {
    "kernelspec": {
      "name": "python",
      "display_name": "Python (Pyodide)",
      "language": "python"
    },
    "language_info": {
      "name": "python"
    },
    "colab": {
      "provenance": []
    }
  },
  "nbformat_minor": 4,
  "nbformat": 4,
  "cells": [
    {
      "cell_type": "markdown",
      "source": "<h1>Импорт библиотек",
      "metadata": {
        "id": "vC84e9kzyxPy"
      }
    },
    {
      "cell_type": "code",
      "source": "import numpy as np\nimport matplotlib.pyplot as plt",
      "metadata": {
        "id": "cgKeNegmQG5S",
        "trusted": true
      },
      "outputs": [],
      "execution_count": null
    },
    {
      "cell_type": "markdown",
      "source": "<h1>Задача 1. Дан набор из $p$ матриц размерностью $(n, n)$ и $p$ векторов размерностью $(n, 1)$, найти сумму произведений матриц на векторы. Написать тесты для кода",
      "metadata": {
        "id": "qFM9uVU2x4Ls"
      }
    },
    {
      "cell_type": "code",
      "source": "def sum_prod(X, V):\n    \n    return sum(np.dot(matrix, vector) for matrix, vector in zip(X, V))\n\n# Тесты\ndef test_sum_prod():\n    # Тест с одной матрицей и вектором\n    X1 = [np.array([[1, 2], [3, 4]])]\n    V1 = [np.array([[1], [2]])]\n    assert np.array_equal(sum_prod(X1, V1), np.array([[5], [11]]))\n    \n    # Тест с двумя матрицами и векторами\n    X2 = [np.array([[1, 0], [0, 1]]), np.array([[2, 0], [0, 2]])]\n    V2 = [np.array([[1], [1]]), np.array([[2], [2]])]\n    assert np.array_equal(sum_prod(X2, V2), np.array([[5], [5]]))\n    \n    # Тест с нулевыми матрицами\n    X3 = [np.zeros((2, 2)), np.zeros((2, 2))]\n    V3 = [np.ones((2, 1)), np.ones((2, 1))]\n    assert np.array_equal(sum_prod(X3, V3), np.zeros((2, 1)))\n    \n    print(\"Все тесты прошли успешно!\")\n\ntest_sum_prod()",
      "metadata": {
        "id": "IAbUvEiYyWFF",
        "trusted": true
      },
      "outputs": [],
      "execution_count": null
    },
    {
      "cell_type": "markdown",
      "source": "<h1>Задача 2. Дана матрица M, напишите функцию, которая бинаризует матрицу по некоторому threshold (то есть, все значения большие threshold становятся равными 1, иначе 0). Напишите тесты для кода",
      "metadata": {
        "id": "TKwPG4fIy2w4"
      }
    },
    {
      "cell_type": "code",
      "source": "def binarize(M, threshold=0.5):\n    return (M > threshold).astype(int)\n\n# Тесты\ndef test_binarize():\n    # Тест с порогом по умолчанию\n    M1 = np.array([[0.1, 0.6], [0.4, 0.9]])\n    assert np.array_equal(binarize(M1), np.array([[0, 1], [0, 1]]))\n    \n    # Тест с пользовательским порогом\n    M2 = np.array([[0.1, 0.6], [0.4, 0.9]])\n    assert np.array_equal(binarize(M2, 0.7), np.array([[0, 0], [0, 1]]))\n    \n    # Тест с целочисленной матрицей\n    M3 = np.array([[1, 2], [3, 4]])\n    assert np.array_equal(binarize(M3, 2.5), np.array([[0, 0], [1, 1]]))\n    \n    print(\"Все тесты прошли успешно!\")\n\ntest_binarize()",
      "metadata": {
        "id": "KQDNMgsjRNH7",
        "trusted": true
      },
      "outputs": [],
      "execution_count": null
    },
    {
      "cell_type": "markdown",
      "source": "<h1>Задача 3. Напишите функцию, которая возвращает уникальные элементы из каждой строки матрицы. Напишите такую же функцию, но для столбцов. Напишите тесты для кода",
      "metadata": {
        "id": "IY5L-h-7zWhN"
      }
    },
    {
      "cell_type": "code",
      "source": "def unique_rows(mat):\n    return [np.unique(row) for row in mat]\n\ndef unique_columns(mat):\n    return [np.unique(col) for col in mat.T]\n\n# Тесты\ndef test_unique():\n    mat = np.array([[1, 2, 1],\n                    [3, 3, 3],\n                    [1, 2, 3]])\n    \n    # Проверка уникальных элементов в строках\n    row_uniques = unique_rows(mat)\n    assert len(row_uniques) == 3\n    assert np.array_equal(row_uniques[0], np.array([1, 2]))\n    assert np.array_equal(row_uniques[1], np.array([3]))\n    assert np.array_equal(row_uniques[2], np.array([1, 2, 3]))\n    \n    # Проверка уникальных элементов в столбцах\n    col_uniques = unique_columns(mat)\n    assert len(col_uniques) == 3\n    assert np.array_equal(col_uniques[0], np.array([1, 3]))\n    assert np.array_equal(col_uniques[1], np.array([2, 3]))\n    assert np.array_equal(col_uniques[2], np.array([1, 3]))\n    \n    print(\"Все тесты прошли успешно!\")\n\ntest_unique()",
      "metadata": {
        "id": "-8dEZhR0SBC-",
        "trusted": true
      },
      "outputs": [],
      "execution_count": null
    },
    {
      "cell_type": "markdown",
      "source": "<h1>Задача 4. Напишите функцию, которая заполняет матрицу с размерами $(m, n)$ случайными числами, распределенными по нормальному закону. Затем считает мат. ожидание и дисперсию для каждого из столбцов и строк, а также строит для каждой строки и столбца гистограмму значений (использовать функцию hist из модуля matplotlib.plot)",
      "metadata": {
        "id": "roYAlo4Jz-lH"
      }
    },
    {
      "cell_type": "code",
      "source": "def analyze_normal_matrix(m, n):\n    # Генерация матрицы\n    mat = np.random.normal(loc=0, scale=1, size=(m, n))\n    \n    # Расчет статистик для строк\n    row_means = np.mean(mat, axis=1)\n    row_vars = np.var(mat, axis=1)\n    \n    # Расчет статистик для столбцов\n    col_means = np.mean(mat, axis=0)\n    col_vars = np.var(mat, axis=0)\n    \n    # Построение гистограмм\n    plt.figure(figsize=(12, 6))\n    \n    plt.subplot(1, 2, 1)\n    for i in range(m):\n        plt.hist(mat[i, :], alpha=0.5, label=f'Row {i+1}')\n    plt.title('Row Histograms')\n    plt.legend()\n    \n    plt.subplot(1, 2, 2)\n    for j in range(n):\n        plt.hist(mat[:, j], alpha=0.5, label=f'Col {j+1}')\n    plt.title('Column Histograms')\n    plt.legend()\n    \n    plt.tight_layout()\n    plt.show()\n    \n    return {\n        'matrix': mat,\n        'row_means': row_means,\n        'row_vars': row_vars,\n        'col_means': col_means,\n        'col_vars': col_vars\n    }\n\n# Пример использования\nresults = analyze_normal_matrix(5, 5)\nprint(\"Средние по строкам:\", results['row_means'])\nprint(\"Дисперсии по строкам:\", results['row_vars'])\nprint(\"Средние по столбцам:\", results['col_means'])\nprint(\"Дисперсии по столбцам:\", results['col_vars'])",
      "metadata": {
        "id": "nZK_71hMSQzv",
        "trusted": true
      },
      "outputs": [],
      "execution_count": null
    },
    {
      "cell_type": "markdown",
      "source": "<h1>Задача 5. Напишите функцию, которая заполняет матрицу $(m, n)$ в шахматном порядке заданными числами $a$ и $b$. Напишите тесты для кода",
      "metadata": {
        "id": "BDyATNdM0dJ2"
      }
    },
    {
      "cell_type": "code",
      "source": "def chess(m, n, a, b):\n    mat = np.empty((m, n), dtype=type(a))\n    for i in range(m):\n        for j in range(n):\n            mat[i, j] = a if (i + j) % 2 == 0 else b\n    return mat\n\n# Тесты\ndef test_chess():\n    # Тест с целыми числами\n    assert np.array_equal(chess(2, 2, 0, 1), np.array([[0, 1], [1, 0]]))\n    \n    # Тест с разными типами\n    assert np.array_equal(chess(3, 3, 'A', 'B'), \n           np.array([['A', 'B', 'A'], \n                     ['B', 'A', 'B'], \n                     ['A', 'B', 'A']]))\n    \n    # Тест с вещественными числами\n    assert np.array_equal(chess(1, 4, 0.5, 1.5), \n           np.array([[0.5, 1.5, 0.5, 1.5]]))\n    \n    print(\"Все тесты прошли успешно!\")\n\ntest_chess()",
      "metadata": {
        "id": "RWNJYWQGecS6",
        "trusted": true
      },
      "outputs": [],
      "execution_count": null
    },
    {
      "cell_type": "markdown",
      "source": "<h1>Задача 6. Напишите функцию, которая отрисовывает прямоугольник с заданными размерами (a, b) на изображении размера (m, n), цвет фона задайте в схеме RGB, как и цвет прямоугольника. Цвета также должны быть параметрами функции. Напишите аналогичную функцию но для овала с полуосями a и b. Напишите тесты для кода.\nПримечание: уравнение эллипса (границы овала) можно записать как:\n<h1>$\\frac{(x-x_0)^2}{a^2}+\\frac{(y-y_0)^2}{b^2}=1$",
      "metadata": {
        "id": "-ymXLtTN0vB6"
      }
    },
    {
      "cell_type": "code",
      "source": "def draw_rectangle(a, b, m, n, rectangle_color, background_color):\n    image = np.full((m, n, 3), background_color)\n    x_start = (m - a) // 2\n    y_start = (n - b) // 2\n    image[x_start:x_start+a, y_start:y_start+b] = rectangle_color\n    plt.imshow(image)\n    plt.axis('off')\n    plt.show()\n\ndef draw_ellipse(a, b, m, n, ellipse_color, background_color):\n    image = np.full((m, n, 3), background_color)\n    x0, y0 = m // 2, n // 2\n    \n    for x in range(m):\n        for y in range(n):\n            if ((x - x0)**2 / a**2 + (y - y0)**2 / b**2) <= 1:\n                image[x, y] = ellipse_color\n    \n    plt.imshow(image)\n    plt.axis('off')\n    plt.show()\n\n# Тесты (визуальные проверки)\ndef test_drawing():\n    print(\"Прямоугольник 100x50 на изображении 200x200\")\n    draw_rectangle(100, 50, 200, 200, [255, 0, 0], [0, 0, 0])\n    \n    print(\"Овал с полуосями 80x40 на изображении 200x200\")\n    draw_ellipse(80, 40, 200, 200, [0, 255, 0], [0, 0, 0])\n\ntest_drawing()",
      "metadata": {
        "id": "sNfl1t_kfOF4",
        "trusted": true
      },
      "outputs": [],
      "execution_count": null
    },
    {
      "cell_type": "markdown",
      "source": "<h1>Задача 7. Дан некий временной ряд. Для данного ряда нужно найти его: математическое ожидание, дисперсию, СКО, найти все локальные максимумы и минимумы (локальный максимум - это точка, которая больше своих соседних точек, а локальный минимум - это точка, которая меньше своих соседей), а также вычислить для данного ряда другой ряд, получаемый методом скользящего среднего с размером окна $p$.\n<h1>Примечание: метод скользящего среднего подразумевает нахождение среднего из подмножетсва ряда размером $p$",
      "metadata": {
        "id": "S82c38oz244H"
      }
    },
    {
      "cell_type": "code",
      "source": "def analyze_time_series(series, window_size):\n    # Основные статистики\n    mean = np.mean(series)\n    variance = np.var(series)\n    std = np.std(series)\n    \n    # Локальные экстремумы\n    maxima = []\n    minima = []\n    for i in range(1, len(series)-1):\n        if series[i] > series[i-1] and series[i] > series[i+1]:\n            maxima.append(i)\n        elif series[i] < series[i-1] and series[i] < series[i+1]:\n            minima.append(i)\n    \n    # Скользящее среднее\n    moving_avg = np.convolve(series, np.ones(window_size)/window_size, mode='valid')\n    \n    return {\n        'mean': mean,\n        'variance': variance,\n        'std': std,\n        'maxima': maxima,\n        'minima': minima,\n        'moving_avg': moving_avg\n    }\n\n# Пример использования\nseries = np.array([1, 3, 7, 1, 2, 6, 0, 1])\nresults = analyze_time_series(series, 3)\nprint(\"Среднее:\", results['mean'])\nprint(\"Дисперсия:\", results['variance'])\nprint(\"СКО:\", results['std'])\nprint(\"Локальные максимумы:\", results['maxima'])\nprint(\"Локальные минимумы:\", results['minima'])\nprint(\"Скользящее среднее:\", results['moving_avg'])",
      "metadata": {
        "id": "Zb9mIVge5MMt",
        "trusted": true
      },
      "outputs": [],
      "execution_count": null
    },
    {
      "cell_type": "markdown",
      "source": "<h1> Задача 8. Дан некоторый вектор с целочисленными метками классов, напишите функцию, которая выполняет one-hot-encoding для данного вектора\n<h1> One-hot-encoding - представление, в котором на месте метки некоторого класса стоит 1, в остальных позициях стоит 0. Например для вектора [0, 2, 3, 0] one-hot-encoding выглядит как: [[1, 0, 0, 0], [0, 0, 1, 0], [0, 0, 0, 1], [1, 0, 0, 0]]",
      "metadata": {
        "id": "jPkylmOX5O9n"
      }
    },
    {
      "cell_type": "code",
      "source": "def one_hot_encoding(labels):\n    classes = np.unique(labels)\n    encoding = np.zeros((len(labels), len(classes)))\n    for i, label in enumerate(labels):\n        encoding[i, np.where(classes == label)] = 1\n    return encoding\n\n# Тесты\ndef test_one_hot():\n    # Тест с числовыми метками\n    labels1 = np.array([0, 2, 3, 0])\n    assert np.array_equal(one_hot_encoding(labels1), \n                         np.array([[1, 0, 0], \n                                  [0, 1, 0], \n                                  [0, 0, 1], \n                                  [1, 0, 0]]))\n    \n    # Тест со строковыми метками\n    labels2 = np.array(['cat', 'dog', 'dog', 'bird'])\n    result = one_hot_encoding(labels2)\n    assert result.shape == (4, 3)\n    assert np.sum(result) == 4\n    \n    print(\"Все тесты прошли успешно!\")\n\ntest_one_hot()",
      "metadata": {
        "id": "Y-jlnZvw56lD",
        "trusted": true
      },
      "outputs": [],
      "execution_count": null
    }
  ]
}
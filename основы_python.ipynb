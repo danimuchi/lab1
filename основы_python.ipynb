{
  "metadata": {
    "kernelspec": {
      "name": "python",
      "display_name": "Python (Pyodide)",
      "language": "python"
    },
    "language_info": {
      "codemirror_mode": {
        "name": "python",
        "version": 3
      },
      "file_extension": ".py",
      "mimetype": "text/x-python",
      "name": "python",
      "nbconvert_exporter": "python",
      "pygments_lexer": "ipython3",
      "version": "3.8"
    },
    "colab": {
      "provenance": []
    }
  },
  "nbformat_minor": 4,
  "nbformat": 4,
  "cells": [
    {
      "cell_type": "markdown",
      "source": "#Задача 1\nНаписать функцию на вход которой подается строка, состоящая из латинских букв.\nФункция должна вернуть количество гласных букв (a, e, i, o, u) в этой строке. Написать тесты для кода",
      "metadata": {
        "id": "M-DGa20PaHnu"
      }
    },
    {
      "cell_type": "code",
      "source": "def count_vowels(text):\n    vowels = {'a', 'e', 'i', 'o', 'u'}\n    return sum(1 for char in text.lower() if char in vowels)\n\n# Тесты\nassert count_vowels(\"hello\") == 2\nassert count_vowels(\"world\") == 1\nassert count_vowels(\"Python\") == 1\nassert count_vowels(\"AEIOU\") == 5\nassert count_vowels(\"\") == 0\nassert count_vowels(\"xyz\") == 0",
      "metadata": {
        "id": "XvX8X_JJ6PCb",
        "trusted": true
      },
      "outputs": [],
      "execution_count": null
    },
    {
      "cell_type": "markdown",
      "source": "# Задача 2\nНаписать функцию на вход, которой подается строка. Функция должна вернуть true, если\nкаждый символ в строке встречается только 1 раз, иначе должна вернуть false. Написать тесты для кода",
      "metadata": {
        "id": "t2ClV_Y0bbr6"
      }
    },
    {
      "cell_type": "code",
      "source": "def all_unique_chars(text):\n    return len(text) == len(set(text))\n\n# Тесты\nassert all_unique_chars(\"abcdef\") == True\nassert all_unique_chars(\"hello\") == False\nassert all_unique_chars(\"\") == True\nassert all_unique_chars(\"a\") == True\nassert all_unique_chars(\"abba\") == False\nassert all_unique_chars(\"12345\") == True",
      "metadata": {
        "id": "FppbECao6VIz",
        "trusted": true
      },
      "outputs": [],
      "execution_count": null
    },
    {
      "cell_type": "markdown",
      "source": "# Задача 3\nНаписать функцию, которая принимает положительное число и возвращает количество\nбит равных 1 в этом числе. Написать тесты для кода",
      "metadata": {
        "id": "udRiIK1cdt6E"
      }
    },
    {
      "cell_type": "code",
      "source": "def count_set_bits(n):\n    return bin(n).count('1')\n\n# Тесты\nassert count_set_bits(5) == 2      # 101\nassert count_set_bits(10) == 2     # 1010\nassert count_set_bits(0) == 0      # 0\nassert count_set_bits(1) == 1      # 1\nassert count_set_bits(255) == 8    # 11111111\nassert count_set_bits(1023) == 10  # 1111111111",
      "metadata": {
        "id": "6tkfDJRz6dp_",
        "trusted": true
      },
      "outputs": [],
      "execution_count": null
    },
    {
      "cell_type": "markdown",
      "source": "# Задача 4\nНаписать функцию, которая принимает положительное число. Функция должна вернуть то,\nсколько раз необходимо перемножать цифры числа или результат перемножения, чтобы\nполучилось число состоящее из одной цифры.\nНапример, для входного числа:\n· 39 функция должна вернуть 3, так как 3*9=27 => 2*7=14 => 1*4=4\n· 4 функция должна вернуть 0, так как число уже состоит из одной цифры\n· 999 функция должна вернуть 4, так как 9*9*9=729 => 7*2*9=126 => 1*2*6=12 =>\n1*2=2. Написать тесты для кода",
      "metadata": {
        "id": "26dDUz-Ae17N"
      }
    },
    {
      "cell_type": "code",
      "source": "def magic(n):\n    if n < 1:\n        raise ValueError(\"Число должно быть положительным\")\n    def multiply_digits(num):\n        result = 1\n        for digit in str(num):\n            result *= int(digit)\n        return result\n    \n    count = 0\n    while n >= 10:\n        n = multiply_digits(n)\n        count += 1\n    return count\n\ndef test_magic():\n    assert magic(39) == 3\n    assert magic(4) == 0\n    assert magic(999) == 4\n    assert magic(25) == 2\n\ntest_magic()",
      "metadata": {
        "id": "BH1A_Mgi6i4G",
        "trusted": true
      },
      "outputs": [],
      "execution_count": null
    },
    {
      "cell_type": "markdown",
      "source": "# Задача 5\nНаписать функцию, которая принимает два целочисленных вектора одинаковой длины и\nвозвращает среднеквадратическое отклонение двух векторов. Написать тесты для кода",
      "metadata": {
        "id": "0nS-kIa8g8vd"
      }
    },
    {
      "cell_type": "code",
      "source": "def mse(pred, true):\n    if len(pred) != len(true):\n        raise ValueError(\"Векторы должны быть одинаковой длины\")\n    squared_errors = [(p - t)**2 for p, t in zip(pred, true)]\n    return sum(squared_errors) / len(squared_errors)\n\nassert mse([1, 2, 3], [1, 2, 3]) == 0\nassert mse([1, 2, 3], [0, 0, 0]) == (1 + 4 + 9)/3\nassert mse([10, 20, 30], [11, 22, 33]) == (1 + 4 + 9)/3\ntry:\n    mse([1, 2], [1])\n    assert False\nexcept ValueError:\n    assert True",
      "metadata": {
        "id": "8iphx4LM6xbx",
        "trusted": true
      },
      "outputs": [],
      "execution_count": null
    },
    {
      "cell_type": "markdown",
      "source": "# Задача 6\nНаписать функцию, принимающая целое положительное число. Функция должна вернуть\nстроку вида “(n1**p1)(n2**p2)…(nk**pk)” представляющая разложение числа на простые\nмножители (если pi == 1, то выводить только ni).\nНапример, для числа 86240 функция должна вернуть “(2**5)(5)(7**2)(11)”. Написать тесты для кода",
      "metadata": {
        "id": "vpIPKL439zkw"
      }
    },
    {
      "cell_type": "code",
      "source": "def prime_factors(n):\n    if n == 1:\n        return \"(1)\"\n    factors = {}\n    divisor = 2\n    while n > 1:\n        while n % divisor == 0:\n            factors[divisor] = factors.get(divisor, 0) + 1\n            n = n // divisor\n        divisor += 1\n    result = []\n    for prime in sorted(factors):\n        power = factors[prime]\n        if power == 1:\n            result.append(f\"({prime})\")\n        else:\n            result.append(f\"({prime}**{power})\")\n    return \"\".join(result)\n\nassert prime_factors(86240) == \"(2**5)(5)(7**2)(11)\"\nassert prime_factors(1) == \"(1)\"\nassert prime_factors(2) == \"(2)\"\nassert prime_factors(13) == \"(13)\"\nassert prime_factors(100) == \"(2**2)(5**2)\"\nassert prime_factors(17*17*23) == \"(17**2)(23)\"",
      "metadata": {
        "id": "pFebmcZk94Jw",
        "trusted": true
      },
      "outputs": [],
      "execution_count": null
    },
    {
      "cell_type": "markdown",
      "source": "# Задача 7\nНаписать функцию, принимающая целое число n, задающее количество кубиков. Функция\nдолжна определить, можно ли из данного кол-ва кубиков построить пирамиду, то есть\nможно ли представить число n как 1^2+2^2+3^2+…+k^2. Если можно, то функция должна\nвернуть k, иначе строку “It is impossible”. Написать тесты для кода",
      "metadata": {
        "id": "ps2s0BudX7A2"
      }
    },
    {
      "cell_type": "code",
      "source": "def pyramid(number):\n    k = 0\n    total = 0\n    while total < number:\n        k += 1\n        total += k**2\n        if total == number:\n            return k\n    return \"It is impossible\"\n\nassert pyramid(1) == 1\nassert pyramid(5) == 2\nassert pyramid(14) == 3\nassert pyramid(30) == 4\nassert pyramid(55) == 5\nassert pyramid(3) == \"It is impossible\"\nassert pyramid(10) == \"It is impossible\"",
      "metadata": {
        "id": "3YPjEXxhX_YT",
        "trusted": true
      },
      "outputs": [],
      "execution_count": null
    },
    {
      "cell_type": "markdown",
      "source": "# Задача 8\nФункция принимает на вход положительное число и определяет является ли оно сбалансированным, т.е. сумма цифр до средних равна сумме цифр после. Средними в случае нечетного числа цифр считать одну цифру, в случае четного - две средних. Написать тесты для кода",
      "metadata": {
        "id": "KeKgmIdAQMEJ"
      }
    },
    {
      "cell_type": "code",
      "source": "def is_balanced(num):\n    s = str(num)\n    length = len(s)\n    if length == 1:\n        return True\n    \n    if length % 2 == 1:\n        mid = length // 2\n        left = s[:mid]\n        right = s[mid+1:]\n    else:\n        mid = length // 2 - 1\n        left = s[:mid]\n        right = s[mid+2:]\n    \n    sum_left = sum(int(d) for d in left)\n    sum_right = sum(int(d) for d in right)\n    return sum_left == sum_right\n\nassert is_balanced(12321) == True\nassert is_balanced(123321) == True\nassert is_balanced(12345) == False\nassert is_balanced(1) == True\nassert is_balanced(121) == True\nassert is_balanced(1221) == True\nassert is_balanced(1234223) == False",
      "metadata": {
        "id": "gMAAqtqlQrZt",
        "trusted": true
      },
      "outputs": [],
      "execution_count": null
    }
  ]
}